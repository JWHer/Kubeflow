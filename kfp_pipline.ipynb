{
 "cells": [
  {
   "cell_type": "code",
   "execution_count": 54,
   "metadata": {},
   "outputs": [
    {
     "name": "stdout",
     "output_type": "stream",
     "text": [
      "Requirement already satisfied: kfp in /opt/conda/lib/python3.7/site-packages (1.1.1)\n",
      "Requirement already satisfied: click in /opt/conda/lib/python3.7/site-packages (from kfp) (7.1.2)\n",
      "Requirement already satisfied: jsonschema>=3.0.1 in /opt/conda/lib/python3.7/site-packages (from kfp) (3.2.0)\n",
      "Requirement already satisfied: kfp-server-api<2.0.0,>=0.2.5 in /opt/conda/lib/python3.7/site-packages (from kfp) (1.0.4)\n",
      "Requirement already satisfied: Deprecated in /opt/conda/lib/python3.7/site-packages (from kfp) (1.2.10)\n",
      "Requirement already satisfied: PyYAML in /opt/conda/lib/python3.7/site-packages (from kfp) (5.3.1)\n",
      "Requirement already satisfied: google-auth>=1.6.1 in /opt/conda/lib/python3.7/site-packages (from kfp) (1.23.0)\n",
      "Requirement already satisfied: kubernetes<12.0.0,>=8.0.0 in /opt/conda/lib/python3.7/site-packages (from kfp) (11.0.0)\n",
      "Requirement already satisfied: docstring-parser>=0.7.3 in /opt/conda/lib/python3.7/site-packages (from kfp) (0.7.3)\n",
      "Requirement already satisfied: strip-hints in /opt/conda/lib/python3.7/site-packages (from kfp) (0.1.9)\n",
      "Requirement already satisfied: google-cloud-storage>=1.13.0 in /opt/conda/lib/python3.7/site-packages (from kfp) (1.30.0)\n",
      "Requirement already satisfied: requests-toolbelt>=0.8.0 in /opt/conda/lib/python3.7/site-packages (from kfp) (0.9.1)\n",
      "Requirement already satisfied: tabulate in /opt/conda/lib/python3.7/site-packages (from kfp) (0.8.7)\n",
      "Requirement already satisfied: cloudpickle in /opt/conda/lib/python3.7/site-packages (from kfp) (1.6.0)\n",
      "Requirement already satisfied: kfp-pipeline-spec<0.2.0,>=0.1.0 in /opt/conda/lib/python3.7/site-packages (from kfp) (0.1.2)\n",
      "Requirement already satisfied: pyrsistent>=0.14.0 in /opt/conda/lib/python3.7/site-packages (from jsonschema>=3.0.1->kfp) (0.17.3)\n",
      "Requirement already satisfied: attrs>=17.4.0 in /opt/conda/lib/python3.7/site-packages (from jsonschema>=3.0.1->kfp) (20.3.0)\n",
      "Requirement already satisfied: importlib-metadata in /opt/conda/lib/python3.7/site-packages (from jsonschema>=3.0.1->kfp) (2.0.0)\n",
      "Requirement already satisfied: six>=1.11.0 in /opt/conda/lib/python3.7/site-packages (from jsonschema>=3.0.1->kfp) (1.15.0)\n",
      "Requirement already satisfied: setuptools in /opt/conda/lib/python3.7/site-packages (from jsonschema>=3.0.1->kfp) (50.3.2)\n",
      "Requirement already satisfied: python-dateutil in /opt/conda/lib/python3.7/site-packages (from kfp-server-api<2.0.0,>=0.2.5->kfp) (2.8.1)\n",
      "Requirement already satisfied: urllib3>=1.15 in /opt/conda/lib/python3.7/site-packages (from kfp-server-api<2.0.0,>=0.2.5->kfp) (1.25.11)\n",
      "Requirement already satisfied: six>=1.11.0 in /opt/conda/lib/python3.7/site-packages (from jsonschema>=3.0.1->kfp) (1.15.0)\n",
      "Requirement already satisfied: certifi in /opt/conda/lib/python3.7/site-packages (from kfp-server-api<2.0.0,>=0.2.5->kfp) (2020.11.8)\n",
      "Requirement already satisfied: wrapt<2,>=1.10 in /opt/conda/lib/python3.7/site-packages (from Deprecated->kfp) (1.12.1)\n",
      "Requirement already satisfied: setuptools in /opt/conda/lib/python3.7/site-packages (from jsonschema>=3.0.1->kfp) (50.3.2)\n",
      "Requirement already satisfied: cachetools<5.0,>=2.0.0 in /opt/conda/lib/python3.7/site-packages (from google-auth>=1.6.1->kfp) (4.1.1)\n",
      "Requirement already satisfied: six>=1.11.0 in /opt/conda/lib/python3.7/site-packages (from jsonschema>=3.0.1->kfp) (1.15.0)\n",
      "Requirement already satisfied: pyasn1-modules>=0.2.1 in /opt/conda/lib/python3.7/site-packages (from google-auth>=1.6.1->kfp) (0.2.8)\n",
      "Requirement already satisfied: rsa<5,>=3.1.4 in /opt/conda/lib/python3.7/site-packages (from google-auth>=1.6.1->kfp) (4.6)\n",
      "Requirement already satisfied: requests-oauthlib in /opt/conda/lib/python3.7/site-packages (from kubernetes<12.0.0,>=8.0.0->kfp) (1.3.0)\n",
      "Requirement already satisfied: requests in /opt/conda/lib/python3.7/site-packages (from kubernetes<12.0.0,>=8.0.0->kfp) (2.24.0)\n",
      "Requirement already satisfied: certifi in /opt/conda/lib/python3.7/site-packages (from kfp-server-api<2.0.0,>=0.2.5->kfp) (2020.11.8)\n",
      "Requirement already satisfied: websocket-client!=0.40.0,!=0.41.*,!=0.42.*,>=0.32.0 in /opt/conda/lib/python3.7/site-packages (from kubernetes<12.0.0,>=8.0.0->kfp) (0.57.0)\n",
      "Requirement already satisfied: six>=1.11.0 in /opt/conda/lib/python3.7/site-packages (from jsonschema>=3.0.1->kfp) (1.15.0)\n",
      "Requirement already satisfied: PyYAML in /opt/conda/lib/python3.7/site-packages (from kfp) (5.3.1)\n",
      "Requirement already satisfied: urllib3>=1.15 in /opt/conda/lib/python3.7/site-packages (from kfp-server-api<2.0.0,>=0.2.5->kfp) (1.25.11)\n",
      "Requirement already satisfied: python-dateutil in /opt/conda/lib/python3.7/site-packages (from kfp-server-api<2.0.0,>=0.2.5->kfp) (2.8.1)\n",
      "Requirement already satisfied: google-auth>=1.6.1 in /opt/conda/lib/python3.7/site-packages (from kfp) (1.23.0)\n",
      "Requirement already satisfied: setuptools in /opt/conda/lib/python3.7/site-packages (from jsonschema>=3.0.1->kfp) (50.3.2)\n",
      "Requirement already satisfied: wheel in /opt/conda/lib/python3.7/site-packages (from strip-hints->kfp) (0.35.1)\n",
      "Requirement already satisfied: google-resumable-media<2.0dev,>=0.6.0 in /opt/conda/lib/python3.7/site-packages (from google-cloud-storage>=1.13.0->kfp) (1.1.0)\n",
      "Requirement already satisfied: google-cloud-core<2.0dev,>=1.2.0 in /opt/conda/lib/python3.7/site-packages (from google-cloud-storage>=1.13.0->kfp) (1.3.0)\n",
      "Requirement already satisfied: google-auth>=1.6.1 in /opt/conda/lib/python3.7/site-packages (from kfp) (1.23.0)\n",
      "Requirement already satisfied: requests in /opt/conda/lib/python3.7/site-packages (from kubernetes<12.0.0,>=8.0.0->kfp) (2.24.0)\n",
      "Requirement already satisfied: zipp>=0.5 in /opt/conda/lib/python3.7/site-packages (from importlib-metadata->jsonschema>=3.0.1->kfp) (3.4.0)\n",
      "Requirement already satisfied: six>=1.11.0 in /opt/conda/lib/python3.7/site-packages (from jsonschema>=3.0.1->kfp) (1.15.0)\n",
      "Requirement already satisfied: pyasn1<0.5.0,>=0.4.6 in /opt/conda/lib/python3.7/site-packages (from pyasn1-modules>=0.2.1->google-auth>=1.6.1->kfp) (0.4.8)\n",
      "Requirement already satisfied: pyasn1<0.5.0,>=0.4.6 in /opt/conda/lib/python3.7/site-packages (from pyasn1-modules>=0.2.1->google-auth>=1.6.1->kfp) (0.4.8)\n",
      "Requirement already satisfied: requests in /opt/conda/lib/python3.7/site-packages (from kubernetes<12.0.0,>=8.0.0->kfp) (2.24.0)\n",
      "Requirement already satisfied: oauthlib>=3.0.0 in /opt/conda/lib/python3.7/site-packages (from requests-oauthlib->kubernetes<12.0.0,>=8.0.0->kfp) (3.1.0)\n",
      "Requirement already satisfied: idna<3,>=2.5 in /opt/conda/lib/python3.7/site-packages (from requests->kubernetes<12.0.0,>=8.0.0->kfp) (2.10)\n",
      "Requirement already satisfied: urllib3>=1.15 in /opt/conda/lib/python3.7/site-packages (from kfp-server-api<2.0.0,>=0.2.5->kfp) (1.25.11)\n",
      "Requirement already satisfied: certifi in /opt/conda/lib/python3.7/site-packages (from kfp-server-api<2.0.0,>=0.2.5->kfp) (2020.11.8)\n",
      "Requirement already satisfied: chardet<4,>=3.0.2 in /opt/conda/lib/python3.7/site-packages (from requests->kubernetes<12.0.0,>=8.0.0->kfp) (3.0.4)\n",
      "Requirement already satisfied: six>=1.11.0 in /opt/conda/lib/python3.7/site-packages (from jsonschema>=3.0.1->kfp) (1.15.0)\n",
      "Requirement already satisfied: google-crc32c<2.0dev,>=1.0 in /opt/conda/lib/python3.7/site-packages (from google-resumable-media<2.0dev,>=0.6.0->google-cloud-storage>=1.13.0->kfp) (1.0.0)\n",
      "Requirement already satisfied: six>=1.11.0 in /opt/conda/lib/python3.7/site-packages (from jsonschema>=3.0.1->kfp) (1.15.0)\n",
      "Requirement already satisfied: google-api-core<2.0.0dev,>=1.16.0 in /opt/conda/lib/python3.7/site-packages (from google-cloud-core<2.0dev,>=1.2.0->google-cloud-storage>=1.13.0->kfp) (1.22.4)\n",
      "Requirement already satisfied: cffi>=1.0.0 in /opt/conda/lib/python3.7/site-packages (from google-crc32c<2.0dev,>=1.0->google-resumable-media<2.0dev,>=0.6.0->google-cloud-storage>=1.13.0->kfp) (1.14.3)\n",
      "Requirement already satisfied: six>=1.11.0 in /opt/conda/lib/python3.7/site-packages (from jsonschema>=3.0.1->kfp) (1.15.0)\n",
      "Requirement already satisfied: pytz in /opt/conda/lib/python3.7/site-packages (from google-api-core<2.0.0dev,>=1.16.0->google-cloud-core<2.0dev,>=1.2.0->google-cloud-storage>=1.13.0->kfp) (2020.4)\n",
      "Requirement already satisfied: google-auth>=1.6.1 in /opt/conda/lib/python3.7/site-packages (from kfp) (1.23.0)\n",
      "Requirement already satisfied: googleapis-common-protos<2.0dev,>=1.6.0 in /opt/conda/lib/python3.7/site-packages (from google-api-core<2.0.0dev,>=1.16.0->google-cloud-core<2.0dev,>=1.2.0->google-cloud-storage>=1.13.0->kfp) (1.52.0)\n",
      "Requirement already satisfied: requests in /opt/conda/lib/python3.7/site-packages (from kubernetes<12.0.0,>=8.0.0->kfp) (2.24.0)\n",
      "Requirement already satisfied: protobuf>=3.12.0 in /opt/conda/lib/python3.7/site-packages (from google-api-core<2.0.0dev,>=1.16.0->google-cloud-core<2.0dev,>=1.2.0->google-cloud-storage>=1.13.0->kfp) (3.13.0)\n",
      "Requirement already satisfied: setuptools in /opt/conda/lib/python3.7/site-packages (from jsonschema>=3.0.1->kfp) (50.3.2)\n",
      "Requirement already satisfied: pycparser in /opt/conda/lib/python3.7/site-packages (from cffi>=1.0.0->google-crc32c<2.0dev,>=1.0->google-resumable-media<2.0dev,>=0.6.0->google-cloud-storage>=1.13.0->kfp) (2.20)\n",
      "Requirement already satisfied: protobuf>=3.12.0 in /opt/conda/lib/python3.7/site-packages (from google-api-core<2.0.0dev,>=1.16.0->google-cloud-core<2.0dev,>=1.2.0->google-cloud-storage>=1.13.0->kfp) (3.13.0)\n",
      "Requirement already satisfied: six>=1.11.0 in /opt/conda/lib/python3.7/site-packages (from jsonschema>=3.0.1->kfp) (1.15.0)\n",
      "Requirement already satisfied: setuptools in /opt/conda/lib/python3.7/site-packages (from jsonschema>=3.0.1->kfp) (50.3.2)\n"
     ]
    }
   ],
   "source": [
    "!pip3 install -U --use-feature=2020-resolver kfp\n",
    "import kfp\n",
    "import kfp.components as comp\n",
    "from kfp import dsl\n",
    "from kfp import compiler\n",
    "from kfp.components import func_to_container_op\n",
    "\n",
    "import json\n",
    "import time\n",
    "import datetime"
   ]
  },
  {
   "cell_type": "code",
   "execution_count": 55,
   "metadata": {},
   "outputs": [],
   "source": [
    "PIPELINE_HOST = \"4dbcebe1d8f5b931-dot-asia-east1.pipelines.googleusercontent.com\"\n",
    "WORK_BUCKET = \"gs://cse-linux-kubeflowpipelines-default\"\n",
    "EXPERIMENT_NAME = \"First Experiment\""
   ]
  },
  {
   "cell_type": "code",
   "execution_count": 56,
   "metadata": {},
   "outputs": [],
   "source": [
    "# Function for determine deployment\n",
    "@func_to_container_op\n",
    "def check_and_deploy_op(ACC_CSV_GCS_URI) -> str:\n",
    "    import sys, subprocess\n",
    "    subprocess.run([sys.executable, '-m', 'pip', 'install', 'pandas'])\n",
    "    subprocess.run([sys.executable, '-m', 'pip', 'install', 'gcsfs'])\n",
    "    import pandas as pd\n",
    "    acc_df = pd.read_csv(ACC_CSV_GCS_URI)\n",
    "    return acc_df[\"deploy\"].item()"
   ]
  },
  {
   "cell_type": "code",
   "execution_count": 57,
   "metadata": {},
   "outputs": [],
   "source": [
    "@func_to_container_op\n",
    "def finish_deploy_op(ACC_CSV_GCS_URI):\n",
    "    import sys, subprocess\n",
    "    subprocess.run([sys.executable, '-m', 'pip', 'install', 'pandas'])\n",
    "    subprocess.run([sys.executable, '-m', 'pip', 'install', 'gcsfs'])\n",
    "    import pandas as pd\n",
    "    acc_df = pd.read_csv(ACC_CSV_GCS_URI)\n",
    "    acc_df[\"deploy\"] = \"done\"\n",
    "    acc_df.to_csv(ACC_CSV_GCS_URI)\n",
    "    print(\"Successfully new model was deployed\")"
   ]
  },
  {
   "cell_type": "code",
   "execution_count": 75,
   "metadata": {},
   "outputs": [],
   "source": [
    "@dsl.pipeline(\n",
    "    name='kubeflow-pipeline-demo',\n",
    "    description='Kubeflow Pipelines demo embrassing AI Platform in Google Cloud'\n",
    ")\n",
    "def train_pipeline(\n",
    "    PROJECT_ID,\n",
    "    WORK_BUCKET,\n",
    "    CSV_URI,\n",
    "    #PREPROC_CSV_GCS_URI,\n",
    "    ACC_CSV_GCS_URI,\n",
    "    MODEL_URI,\n",
    "    #MIN_ACC_PROGRESS,\n",
    "    #STAGE_GCS_FOLDER,\n",
    "    TRAIN_ON_CLOUD,\n",
    "    AIPJOB_TRAINER_GCS_PATH,\n",
    "    AIPJOB_OUTPUT_GCS_PATH\n",
    "):\n",
    "    IMAGE_PREFIX = \"cse-linux\"\n",
    "    #PREPROC_DIR = \"preprocess\"\n",
    "    TRAIN_DIR = \"train\"\n",
    "    MODEL_DIR = \"model\"\n",
    "    \n",
    "#     preprocess = dsl.ContainerOp(\n",
    "#         name = \"Preprocess raw data and generate new one\",\n",
    "#         image = \"gcr.io/\" + str(PROJECT_ID) + \"/\" + IMAGE_PREFIX + \"-\" + PREPROC_DIR + \":latest\",\n",
    "#         arguments = [\n",
    "#         \"--raw_csv_gcs_uri\", RAW_CSV_GCS_URI,\n",
    "#         \"--preproc_csv_gcs_uri\", PREPROC_CSV_GCS_URI\n",
    "#         ]\n",
    "#     )\n",
    "    \n",
    "    train_args = [\n",
    "        \"--csv_uri\", str(CSV_URI),\n",
    "        \"--checkpoint_uri\", str(MODEL_URI),\n",
    "        \"--acc_uri\", str(ACC_CSV_GCS_URI)\n",
    "        #\"--min_acc_progress\", str(MIN_ACC_PROGRESS)\n",
    "    ]\n",
    "\n",
    "    with dsl.Condition(TRAIN_ON_CLOUD == False) as check_condition1:\n",
    "        train = dsl.ContainerOp(\n",
    "            name =\"Train\",\n",
    "            image = \"gcr.io/\" + str(PROJECT_ID) + \"/\" + IMAGE_PREFIX + \"-\" + TRAIN_DIR + \":latest\",\n",
    "            arguments = train_args,\n",
    "            file_outputs={\"mlpipeline-metrics\" : \"/mlpipeline-metrics.json\"}\n",
    "        )\n",
    "        \n",
    "#     with dsl.Condition(TRAIN_ON_CLOUD == True) as check_condition2:\n",
    "#         aip_job_train_op = comp.load_component_from_url(\"https://raw.githubusercontent.com/kubeflow/pipelines/1.0.0/components/gcp/ml_engine/train/component.yaml\")\n",
    "#         help(aip_job_train_op)\n",
    "#         aip_train = aip_job_train_op(\n",
    "#             project_id=PROJECT_ID, \n",
    "#             python_module=\"train.train\", \n",
    "#             package_uris=json.dumps([str(AIPJOB_TRAINER_GCS_PATH)]), \n",
    "#             region=\"us\", \n",
    "#             args=json.dumps(train_args),\n",
    "#             job_dir=AIPJOB_OUTPUT_GCS_PATH, \n",
    "#             python_version=\"3.6\",\n",
    "#             runtime_version=\"1.15\", #cf. 2.1 \n",
    "#             master_image_uri=\"\", \n",
    "#             worker_image_uri=\"\", \n",
    "#             training_input=\"\", \n",
    "#             job_id_prefix=\"\", \n",
    "#             job_id=\"\",\n",
    "#             wait_interval=5\n",
    "#         )\n",
    "        \n",
    "    check_deploy = check_and_deploy_op(ACC_CSV_GCS_URI)\n",
    "    with dsl.Condition(check_deploy.output == \"pending\"):\n",
    "#         aip_model_deploy_op = comp.load_component_from_url(\"https://raw.githubusercontent.com/kubeflow/pipelines/1.0.0/components/gcp/ml_engine/deploy/component.yaml\")\n",
    "#         help(aip_model_deploy_op)\n",
    "#         aip_model_deploy = aip_model_deploy_op(\n",
    "#             model_uri=str(WORK_BUCKET) + \"/\" + MODEL_DIR, \n",
    "#             project_id=PROJECT_ID, \n",
    "#             model_id=\"\", \n",
    "#             version_id=\"\", \n",
    "#             runtime_version=\"2.2\", #cf. 2.1 \n",
    "#             python_version=\"3.7\",\n",
    "#             version=\"\", \n",
    "#             replace_existing_version=\"True\", \n",
    "#             set_default=\"True\", \n",
    "#             wait_interval=5\n",
    "#         )\n",
    "        lastStep = finish_deploy_op(ACC_CSV_GCS_URI)\n",
    " \n",
    "    #check_condition1.after(preprocess)\n",
    "    #check_condition2.after(preprocess)\n",
    "    check_deploy.after(train)\n",
    "    #lastStep.after(aip_model_deploy)\n",
    "    \n",
    "    train.execution_options.caching_strategy.max_cache_staleness = \"P0D\"\n",
    "    #aip_train.execution_options.caching_strategy.max_cache_staleness = \"P0D\"\n",
    "    check_deploy.execution_options.caching_strategy.max_cache_staleness = \"P0D\"\n",
    "    #aip_model_deploy.execution_options.caching_strategy.max_cache_staleness = \"P0D\"\n",
    "    lastStep.execution_options.caching_strategy.max_cache_staleness = \"P0D\""
   ]
  },
  {
   "cell_type": "code",
   "execution_count": 76,
   "metadata": {},
   "outputs": [
    {
     "name": "stderr",
     "output_type": "stream",
     "text": [
      "/opt/conda/lib/python3.7/site-packages/kfp/dsl/_container_op.py:1028: FutureWarning: Please create reusable components instead of constructing ContainerOp instances directly. Reusable components are shareable, portable and have compatibility and support guarantees. Please see the documentation: https://www.kubeflow.org/docs/pipelines/sdk/component-development/#writing-your-component-definition-file The components can be created manually (or, in case of python, using kfp.components.create_component_from_func or func_to_container_op) and then loaded using kfp.components.load_component_from_file, load_component_from_uri or load_component_from_text: https://kubeflow-pipelines.readthedocs.io/en/latest/source/kfp.components.html#kfp.components.load_component_from_file\n",
      "  category=FutureWarning,\n"
     ]
    },
    {
     "name": "stdout",
     "output_type": "stream",
     "text": [
      "already exist\n"
     ]
    },
    {
     "data": {
      "text/html": [
       "<a href=\"http://4dbcebe1d8f5b931-dot-asia-east1.pipelines.googleusercontent.com/#/experiments/details/f7bb3cea-aaa2-4174-9804-330a240a4fc7\" target=\"_blank\" >Experiment details</a>."
      ],
      "text/plain": [
       "<IPython.core.display.HTML object>"
      ]
     },
     "metadata": {},
     "output_type": "display_data"
    },
    {
     "data": {
      "text/html": [
       "<a href=\"http://4dbcebe1d8f5b931-dot-asia-east1.pipelines.googleusercontent.com/#/runs/details/3fcca030-0424-45b0-8278-8238530edcbf\" target=\"_blank\" >Run details</a>."
      ],
      "text/plain": [
       "<IPython.core.display.HTML object>"
      ]
     },
     "metadata": {},
     "output_type": "display_data"
    },
    {
     "data": {
      "text/plain": [
       "RunPipelineResult(run_id=3fcca030-0424-45b0-8278-8238530edcbf)"
      ]
     },
     "execution_count": 76,
     "metadata": {},
     "output_type": "execute_result"
    }
   ],
   "source": [
    "args = {\n",
    "    \"PROJECT_ID\" : \"cse-linux\",\n",
    "    \"WORK_BUCKET\" : WORK_BUCKET,\n",
    "    \"CSV_URI\" : \"cse-linux-kubeflowpipelines-default\",\n",
    "    #\"PREPROC_CSV_GCS_URI\" : WORK_BUCKET + \"/preprocdata/processed_train.csv\",\n",
    "    \"ACC_CSV_GCS_URI\" : WORK_BUCKET + \"/latestacc/acc.csv\",\n",
    "    \"MODEL_URI\" : WORK_BUCKET + \"/model/model.pkl\",\n",
    "    #\"MIN_ACC_PROGRESS\" : 0.000001,\n",
    "    #\"STAGE_GCS_FOLDER\" : WORK_BUCKET + \"/stage\",\n",
    "    \"TRAIN_ON_CLOUD\" : False,\n",
    "    \"AIPJOB_TRAINER_GCS_PATH\" : WORK_BUCKET + \"/train/train.tar.gz\",\n",
    "    \"AIPJOB_OUTPUT_GCS_PATH\" : WORK_BUCKET + \"/train/output/\"\n",
    "}\n",
    "\n",
    "client = kfp.Client(host=PIPELINE_HOST)\n",
    "\n",
    "pipeline_name = \"train_pipelines.zip\"\n",
    "compiler.Compiler().compile(train_pipeline, pipeline_name)\n",
    "try:\n",
    "    pipeline = client.upload_pipeline(pipeline_package_path=pipeline_name, pipeline_name=pipeline_name)\n",
    "    print(\"uploaded:\" + pipeline.id)\n",
    "except:\n",
    "    print(\"already exist\")\n",
    "\n",
    "client.create_run_from_pipeline_func(\n",
    " train_pipeline,\n",
    " arguments=args,\n",
    " experiment_name=EXPERIMENT_NAME\n",
    ")"
   ]
  },
  {
   "cell_type": "code",
   "execution_count": null,
   "metadata": {},
   "outputs": [],
   "source": [
    "print(\"hello\")"
   ]
  },
  {
   "cell_type": "code",
   "execution_count": null,
   "metadata": {},
   "outputs": [],
   "source": []
  }
 ],
 "metadata": {
  "environment": {
   "name": "tf2-2-3-gpu.2-3.m59",
   "type": "gcloud",
   "uri": "gcr.io/deeplearning-platform-release/tf2-2-3-gpu.2-3:m59"
  },
  "kernelspec": {
   "display_name": "Python 3",
   "language": "python",
   "name": "python3"
  },
  "language_info": {
   "codemirror_mode": {
    "name": "ipython",
    "version": 3
   },
   "file_extension": ".py",
   "mimetype": "text/x-python",
   "name": "python",
   "nbconvert_exporter": "python",
   "pygments_lexer": "ipython3",
   "version": "3.7.8"
  }
 },
 "nbformat": 4,
 "nbformat_minor": 4
}
